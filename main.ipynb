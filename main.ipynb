{
 "cells": [
  {
   "cell_type": "code",
   "execution_count": 3,
   "metadata": {},
   "outputs": [],
   "source": [
    "import pandas as pd\n",
    "import requests\n",
    "import json\n",
    "import time\n",
    "from datetime import datetime\n",
    "import os\n",
    "from settings import FIRST_FILE_INDEX, LAST_FILE_INDEX, TOKEN"
   ]
  },
  {
   "cell_type": "code",
   "execution_count": null,
   "metadata": {},
   "outputs": [],
   "source": [
    "first_file_index = FIRST_FILE_INDEX\n",
    "last_file_index = LAST_FILE_INDEX\n",
    "\n",
    "file_paths = [os.join(\"data\", \"tssb_data_3M\", f\"file-{index}.jsonl\") for index in range(first_file_index, last_file_index+1)]"
   ]
  },
  {
   "cell_type": "code",
   "execution_count": null,
   "metadata": {},
   "outputs": [],
   "source": [
    "data_list = []\n",
    "\n",
    "for file_path in file_paths:\n",
    "    with open(file_path, 'r') as file:\n",
    "        for line in file:\n",
    "            data_dict = json.loads(line)\n",
    "            data_list.append(data_dict)\n",
    "\n",
    "df = pd.DataFrame(data_list)\n",
    "\n",
    "del data_list, file_paths"
   ]
  },
  {
   "cell_type": "code",
   "execution_count": null,
   "metadata": {},
   "outputs": [],
   "source": [
    "df.head()"
   ]
  },
  {
   "cell_type": "code",
   "execution_count": null,
   "metadata": {},
   "outputs": [],
   "source": [
    "# Enter your personal token.\n",
    "token = TOKEN\n",
    "\n",
    "# The limit of GitHub API requests per hour.\n",
    "github_limit = 5000\n",
    "\n",
    "dataset_size = df.shape[0]\n",
    "numberof_partitions = dataset_size // github_limit + 1\n",
    "partitions_boundaries = [github_limit * (i) for i in range(numberof_partitions)] \n",
    "partitions_boundaries += [partitions_boundaries[-1] + dataset_size % github_limit]\n",
    "\n",
    "#Make it with os\n",
    "extracted_data_path = os.path.join(\"data\", \"commit_messages\")\n",
    "\n",
    "for baundary_index in range(numberof_partitions):\n",
    "    commits = []\n",
    "    errors = []\n",
    "    \n",
    "    for data_index in range(partitions_boundaries[baundary_index], partitions_boundaries[baundary_index + 1]):\n",
    "        username, reponame = df[\"project_url\"][data_index].split('/')[-2:]\n",
    "        commit_sha = df[\"commit_sha\"][data_index]\n",
    "\n",
    "        headers = {\n",
    "            \"Authorization\": f\"Bearer {token}\",\n",
    "            \"Accept\": \"application/vnd.github.v3+json\"\n",
    "        }\n",
    "\n",
    "        commit_url = f\"https://api.github.com/repos/{username}/{reponame}/commits/{commit_sha}\"\n",
    "        commit_response = requests.get(commit_url, headers=headers)\n",
    "\n",
    "        if commit_response.status_code == 200:\n",
    "            commit_details = commit_response.json()\n",
    "            commits.append({\n",
    "                \"username\": username,\n",
    "                \"reponame\": reponame,\n",
    "                \"commit_sha\": commit_sha,\n",
    "                \"message\": commit_details[\"commit\"][\"message\"],\n",
    "            })\n",
    "\n",
    "        else:\n",
    "            print(\"Error:\", commit_response.status_code, commit_response.text, username, reponame, commit_sha)\n",
    "\n",
    "            errors.append({\n",
    "                \"username\": username,\n",
    "                \"reponame\": reponame,\n",
    "                \"commit_sha\": commit_sha,\n",
    "                \"response_code\": commit_response.status_code,\n",
    "                \"response_text\": commit_response.text\n",
    "            })\n",
    "    \n",
    "    with open(os.path.join(extracted_data_path, (\"commit_messages_\" + str(baundary_index) + \".json\")), \"w\") as file:\n",
    "        json.dump(commits, file)\n",
    "    \n",
    "    with open(os.path.join(extracted_data_path, (\"errors_\" + str(baundary_index) + \".json\")), \"w\") as file:\n",
    "        json.dump(errors, file)\n",
    "\n",
    "    print(\"Last Index Observed: \" + str(baundary_index) + \" | Time: \" + str(datetime.now()))\n",
    "\n",
    "    time.sleep(3600)\n",
    "\n",
    "del partitions_boundaries, commits, errors"
   ]
  }
 ],
 "metadata": {
  "kernelspec": {
   "display_name": "dlenv",
   "language": "python",
   "name": "python3"
  },
  "language_info": {
   "codemirror_mode": {
    "name": "ipython",
    "version": 3
   },
   "file_extension": ".py",
   "mimetype": "text/x-python",
   "name": "python",
   "nbconvert_exporter": "python",
   "pygments_lexer": "ipython3",
   "version": "3.9.13"
  }
 },
 "nbformat": 4,
 "nbformat_minor": 2
}
